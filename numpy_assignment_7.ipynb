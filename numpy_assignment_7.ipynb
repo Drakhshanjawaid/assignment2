{
  "nbformat": 4,
  "nbformat_minor": 0,
  "metadata": {
    "colab": {
      "name": "numpy assignment 7.ipynb",
      "provenance": [],
      "authorship_tag": "ABX9TyPbYH23B59ahd3l3b1MSpxf"
    },
    "kernelspec": {
      "name": "python3",
      "display_name": "Python 3"
    },
    "language_info": {
      "name": "python"
    }
  },
  "cells": [
    {
      "cell_type": "code",
      "execution_count": null,
      "metadata": {
        "id": "czq-vb5X-RI1"
      },
      "outputs": [],
      "source": [
        ""
      ]
    },
    {
      "cell_type": "markdown",
      "source": [
        "Write a function so that the columns of the output matrix are powers of the input vector.\n",
        "\n",
        "The order of the powers is determined by the increasing boolean argument. Specifically, when increasing is False, the i-th output column is the input vector raised element-wise to the power\n",
        "of N - i - 1.\n",
        "\n",
        "HINT: Such a matrix with a geometric progression in each row is named for Alexandre-\n",
        "Theophile Vandermonde."
      ],
      "metadata": {
        "id": "RreBlj49-XvP"
      }
    },
    {
      "cell_type": "code",
      "source": [
        "import numpy as np"
      ],
      "metadata": {
        "id": "sFlwGBjq-u0D"
      },
      "execution_count": 1,
      "outputs": []
    },
    {
      "cell_type": "code",
      "source": [
        "x = np.array([1,2,3,4,5])\n",
        "N= 5\n",
        "matrix = np.vander(x,N,increasing=False)\n",
        "matrix"
      ],
      "metadata": {
        "colab": {
          "base_uri": "https://localhost:8080/"
        },
        "id": "rcUcR14b_g-3",
        "outputId": "1d51a4dd-6c14-4f26-f506-17e408f3e357"
      },
      "execution_count": 2,
      "outputs": [
        {
          "output_type": "execute_result",
          "data": {
            "text/plain": [
              "array([[  1,   1,   1,   1,   1],\n",
              "       [ 16,   8,   4,   2,   1],\n",
              "       [ 81,  27,   9,   3,   1],\n",
              "       [256,  64,  16,   4,   1],\n",
              "       [625, 125,  25,   5,   1]])"
            ]
          },
          "metadata": {},
          "execution_count": 2
        }
      ]
    },
    {
      "cell_type": "code",
      "source": [
        ""
      ],
      "metadata": {
        "id": "bnMEPlA3ABPS"
      },
      "execution_count": null,
      "outputs": []
    },
    {
      "cell_type": "markdown",
      "source": [
        "Problem Statement 2:\n",
        "\n",
        "Given a sequence of n values x1, x2, ..., xn and a window size k>0, the k-th moving average of the given sequence is defined as follows:\n",
        "\n",
        "The moving average sequence has n-k+1 elements as shown below.\n",
        "\n",
        "The moving averages with k=4 of a ten-value sequence (n=10) is shown below\n",
        "\n",
        "        i 1 2 3 4 5 6 7 8 9 10\n",
        "\n",
        "    ===== == == == == == == == == == ==\n",
        "\n",
        "Input 10 20 30 40 50 60 70 80 90 100\n",
        "\n",
        "y1 25 = (10+20+30+40)/4\n",
        "\n",
        "y2 35 = (20+30+40+50)/4\n",
        "\n",
        "y3 45 = (30+40+50+60)/4\n",
        "\n",
        "y4 55 = (40+50+60+70)/4\n",
        "\n",
        "y5 65 = (50+60+70+80)/4\n",
        "\n",
        "y6 75 = (60+70+80+90)/4\n",
        "\n",
        "y7 85 = (70+80+90+100)/4\n",
        "\n",
        "Thus, the moving average sequence has n-k+1=10-4+1=7 values.\n",
        "\n",
        "Question:\n",
        "Write a function to find moving average in an array over a window:\n",
        "Test it over [3, 5, 7, 2, 8, 10, 11, 65, 72, 81, 99, 100, 150] and window of 3."
      ],
      "metadata": {
        "id": "JHWKZM7LAL8h"
      }
    },
    {
      "cell_type": "code",
      "source": [
        "n=len(values)\n",
        "k=3\n",
        "\n",
        "def moving_average(values, k):\n",
        "  ret = np.cumsum(values, dtype='float')\n",
        "  ret[k:] = ret[k:] - ret[:-k]\n",
        "  return ret[k - 1:] / k\n",
        "\n",
        "values = [3, 5, 7, 2, 8, 10, 11, 65, 72, 81, 99, 100, 150]\n",
        "\n",
        "print(moving_average(values,k))\n",
        "print('The moving average sequence has {} values'.format(n-k+1))"
      ],
      "metadata": {
        "colab": {
          "base_uri": "https://localhost:8080/"
        },
        "id": "4MBiUGCiA0Gd",
        "outputId": "42d4fe93-f27e-4c2c-f600-c65ad0a9f912"
      },
      "execution_count": 21,
      "outputs": [
        {
          "output_type": "stream",
          "name": "stdout",
          "text": [
            "[  5.           4.66666667   5.66666667   6.66666667   9.66666667\n",
            "  28.66666667  49.33333333  72.66666667  84.          93.33333333\n",
            " 116.33333333]\n",
            "The moving average sequence has 11 values\n"
          ]
        }
      ]
    },
    {
      "cell_type": "code",
      "source": [
        ""
      ],
      "metadata": {
        "id": "p7RFZfh1DONm"
      },
      "execution_count": null,
      "outputs": []
    }
  ]
}