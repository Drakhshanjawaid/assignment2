{
  "nbformat": 4,
  "nbformat_minor": 0,
  "metadata": {
    "colab": {
      "name": "assignment 3.ipynb",
      "provenance": [],
      "authorship_tag": "ABX9TyNAUsG33q7/RmHdbSapax2Y"
    },
    "kernelspec": {
      "name": "python3",
      "display_name": "Python 3"
    },
    "language_info": {
      "name": "python"
    }
  },
  "cells": [
    {
      "cell_type": "markdown",
      "metadata": {
        "id": "6sPj7oUroxOO"
      },
      "source": [
        "1.1 Write a Python Program to implement your own myreduce() function which works exactly\n",
        "like Python's built-in function reduce()"
      ]
    },
    {
      "cell_type": "code",
      "source": [
        "l = []\n",
        "try:\n",
        "  num = int(input(\"How many values you want to enter in list: \"))\n",
        "  j = num\n",
        "except:\n",
        "  print(\"It should be a integer number.\")\n",
        "\n",
        "while len(l) != j:\n",
        "  try:\n",
        "    n = int(input(\"Enter an integer: \"))\n",
        "  except Exception as e:\n",
        "    print(e)\n",
        "  else:\n",
        "    l.append(n)\n",
        "print(\"List is: \", l)\n",
        "\n",
        "def myreduce(add, l):\n",
        "    return a\n",
        "def add(a,b):\n",
        "    return a+b\n",
        "\n",
        "a = l[0]\n",
        "\n",
        "for i in range(1,len(l)):\n",
        "    b = l[i]\n",
        "    a = add(a,b)\n",
        "\n",
        "print(myreduce(add, l))"
      ],
      "metadata": {
        "id": "VQt3A6seOHT0",
        "colab": {
          "base_uri": "https://localhost:8080/"
        },
        "outputId": "f7e6e310-72d9-48ab-8cbc-31870cdf18b1"
      },
      "execution_count": 3,
      "outputs": [
        {
          "output_type": "stream",
          "name": "stdout",
          "text": [
            "How many values you want to enter in list: 4\n",
            "Enter an integer: 6\n",
            "Enter an integer: sd\n",
            "invalid literal for int() with base 10: 'sd'\n",
            "Enter an integer: 3\n",
            "Enter an integer: we\n",
            "invalid literal for int() with base 10: 'we'\n",
            "Enter an integer: 4\n",
            "Enter an integer: 2\n",
            "List is:  [6, 3, 4, 2]\n",
            "15\n"
          ]
        }
      ]
    },
    {
      "cell_type": "markdown",
      "metadata": {
        "id": "UabGfNRMpH8T"
      },
      "source": [
        "1.2 Write a Python program to implement your own myfilter() function which works exactly\n",
        "like Python's built-in function filter()"
      ]
    },
    {
      "cell_type": "code",
      "metadata": {
        "colab": {
          "base_uri": "https://localhost:8080/"
        },
        "id": "WSPLxInNpLeL",
        "outputId": "c5f2b7e8-564f-4f32-9615-8f9845e39d37"
      },
      "source": [
        "list2 = []\n",
        "try:\n",
        "  num = int(input(\"How many values you want to enter in list: \"))\n",
        "  j = num\n",
        "except:\n",
        "  print(\"It should be a integer number.\")\n",
        "\n",
        "while len(list2) != j:\n",
        "  try:\n",
        "    n = int(input(\"Enter an integer: \"))\n",
        "  except Exception as e:\n",
        "    print(e)\n",
        "  else:\n",
        "    list2.append(n)\n",
        "print(\"List is: \", list2)\n",
        "\n",
        "def myfilter(is_even,list2):\n",
        "    return is_even(list2)\n",
        "\n",
        "list3=[]\n",
        "def is_even(list2):\n",
        "    for i in list2:\n",
        "        if i%2==0:\n",
        "            list3.append(i)\n",
        "    print(list3)\n",
        "myfilter(is_even,list2)"
      ],
      "execution_count": 4,
      "outputs": [
        {
          "output_type": "stream",
          "name": "stdout",
          "text": [
            "How many values you want to enter in list: 6\n",
            "Enter an integer: ert\n",
            "invalid literal for int() with base 10: 'ert'\n",
            "Enter an integer: 5\n",
            "Enter an integer: dfdg\n",
            "invalid literal for int() with base 10: 'dfdg'\n",
            "Enter an integer: 4\n",
            "Enter an integer: 67\n",
            "Enter an integer: 23\n",
            "Enter an integer: gh\n",
            "invalid literal for int() with base 10: 'gh'\n",
            "Enter an integer: 7\n",
            "Enter an integer: 9\n",
            "List is:  [5, 4, 67, 23, 7, 9]\n",
            "[4]\n"
          ]
        }
      ]
    },
    {
      "cell_type": "markdown",
      "metadata": {
        "id": "jKuKXqAWr2yb"
      },
      "source": [
        "2. Implement List comprehensions to produce the following lists.\n",
        "Write List comprehensions to produce the following Lists"
      ]
    },
    {
      "cell_type": "markdown",
      "metadata": {
        "id": "GNuTSk-Mr7L6"
      },
      "source": [
        "['x', 'xx', 'xxx', 'xxxx', 'y', 'yy', 'yyy', 'yyyy', 'z', 'zz', 'zzz', 'zzzz']"
      ]
    },
    {
      "cell_type": "code",
      "metadata": {
        "colab": {
          "base_uri": "https://localhost:8080/"
        },
        "id": "7mIsQ7Dir4Ls",
        "outputId": "148bd654-9b79-4ae6-b437-b9586140ae7d"
      },
      "source": [
        "values = ['x', 'y', 'z']\n",
        "[value*i for value in values for i in range(1,5) ]"
      ],
      "execution_count": null,
      "outputs": [
        {
          "output_type": "execute_result",
          "data": {
            "text/plain": [
              "['x', 'xx', 'xxx', 'xxxx', 'y', 'yy', 'yyy', 'yyyy', 'z', 'zz', 'zzz', 'zzzz']"
            ]
          },
          "metadata": {},
          "execution_count": 10
        }
      ]
    },
    {
      "cell_type": "markdown",
      "metadata": {
        "id": "Xko5usyLsK9x"
      },
      "source": [
        "['x', 'y', 'z', 'xx', 'yy', 'zz', 'xxx', 'yyy', 'zzz', 'xxxx', 'yyyy', 'zzzz']"
      ]
    },
    {
      "cell_type": "code",
      "metadata": {
        "colab": {
          "base_uri": "https://localhost:8080/"
        },
        "id": "ZoYWyQ2usQ3L",
        "outputId": "2b8752e6-13f1-4966-f72e-4b432fbddcc6"
      },
      "source": [
        "[value*i for i in range(1,5) for value in values]"
      ],
      "execution_count": null,
      "outputs": [
        {
          "output_type": "execute_result",
          "data": {
            "text/plain": [
              "['x', 'y', 'z', 'xx', 'yy', 'zz', 'xxx', 'yyy', 'zzz', 'xxxx', 'yyyy', 'zzzz']"
            ]
          },
          "metadata": {},
          "execution_count": 11
        }
      ]
    },
    {
      "cell_type": "markdown",
      "metadata": {
        "id": "BzmPPEtoscoa"
      },
      "source": [
        "[[2], [3], [4], [3], [4], [5], [4], [5], [6]]"
      ]
    },
    {
      "cell_type": "code",
      "metadata": {
        "colab": {
          "base_uri": "https://localhost:8080/"
        },
        "id": "PC1-JKElseOU",
        "outputId": "cd248b7f-1864-4b25-c648-c95666d79d47"
      },
      "source": [
        "[[i+j] for i in range(2,5) for j in range(3)]"
      ],
      "execution_count": null,
      "outputs": [
        {
          "output_type": "execute_result",
          "data": {
            "text/plain": [
              "[[2], [3], [4], [3], [4], [5], [4], [5], [6]]"
            ]
          },
          "metadata": {},
          "execution_count": 12
        }
      ]
    },
    {
      "cell_type": "markdown",
      "metadata": {
        "id": "wZ8u2tohszEX"
      },
      "source": [
        "[[2, 3, 4, 5], [3, 4, 5, 6],[4, 5, 6, 7], [5, 6, 7, 8]]"
      ]
    },
    {
      "cell_type": "code",
      "metadata": {
        "colab": {
          "base_uri": "https://localhost:8080/"
        },
        "id": "s44v2tr0s2PO",
        "outputId": "a0a54944-c477-450a-dcf2-db1cfaf1d388"
      },
      "source": [
        "[[i+j for i in range(1,5)] for j in range(1,5)]"
      ],
      "execution_count": null,
      "outputs": [
        {
          "output_type": "execute_result",
          "data": {
            "text/plain": [
              "[[2, 3, 4, 5], [3, 4, 5, 6], [4, 5, 6, 7], [5, 6, 7, 8]]"
            ]
          },
          "metadata": {},
          "execution_count": 13
        }
      ]
    },
    {
      "cell_type": "markdown",
      "metadata": {
        "id": "d6LaxiyotNnS"
      },
      "source": [
        "[(1, 1), (2, 1), (3, 1), (1, 2), (2, 2), (3, 2), (1, 3), (2, 3), (3, 3)]"
      ]
    },
    {
      "cell_type": "code",
      "metadata": {
        "colab": {
          "base_uri": "https://localhost:8080/"
        },
        "id": "zZuwVpm3tPqF",
        "outputId": "06b099d3-4a9e-4487-dba6-567c24f92d00"
      },
      "source": [
        "my_lists = [1,2,3]\n",
        "[(my_lists[j],my_list) for my_list in my_lists for j in range(3) ]"
      ],
      "execution_count": null,
      "outputs": [
        {
          "output_type": "execute_result",
          "data": {
            "text/plain": [
              "[(1, 1), (2, 1), (3, 1), (1, 2), (2, 2), (3, 2), (1, 3), (2, 3), (3, 3)]"
            ]
          },
          "metadata": {},
          "execution_count": 14
        }
      ]
    }
  ]
}