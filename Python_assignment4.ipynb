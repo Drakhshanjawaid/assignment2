{
  "nbformat": 4,
  "nbformat_minor": 0,
  "metadata": {
    "colab": {
      "name": "Python assignment4.ipynb",
      "provenance": [],
      "collapsed_sections": [],
      "authorship_tag": "ABX9TyNlK1347xneNIqC3Z3T1GBR"
    },
    "kernelspec": {
      "name": "python3",
      "display_name": "Python 3"
    },
    "language_info": {
      "name": "python"
    }
  },
  "cells": [
    {
      "cell_type": "markdown",
      "metadata": {
        "id": "s35aWtDOYxTv"
      },
      "source": [
        "1.1 Write a Python Program(with class concepts) to find the area of the triangle using the below\n",
        "formula.\n",
        "area = (s*(s-a)*(s-b)*(s-c)) ** 0.5\n",
        "Function to take the length of the sides of triangle from user should be defined in the parent\n",
        "class and function to calculate the area should be defined in subclass."
      ]
    },
    {
      "cell_type": "code",
      "metadata": {
        "colab": {
          "base_uri": "https://localhost:8080/"
        },
        "id": "TWOHuXLGY4AJ",
        "outputId": "66a107f9-a8a3-4e0a-8fc5-a7fd32864137"
      },
      "source": [
        "class Triangle:\n",
        "    def __init__(self,a,b,c):\n",
        "        self.a = a\n",
        "        self.b = b\n",
        "        self.c = c\n",
        "\n",
        "    \n",
        "class Area(Triangle):\n",
        "    def __init__(self, a,b,c):\n",
        "        super().__init__(a,b,c)\n",
        "    \n",
        "    \n",
        "    def triangle_area(self):\n",
        "        s = (self.a + self.b + self.c)/2\n",
        "        area = float((s * (s - self.a) * (s - self.b) * (s - self.c))) ** 0.5\n",
        "        return area\n",
        "try:   \n",
        "  a = float(input('Enter 1st side of triangle: '))\n",
        "  b = float(input('Enter 2nd side of triangle: '))\n",
        "  c = float(input('Enter 3rd side of triangle: '))\n",
        "except Exception as e:\n",
        "  print(e)    \n",
        "obj1 = Area(a,b,c)\n",
        "print(\"Area of triangle is {}\".format(obj1.triangle_area()))"
      ],
      "execution_count": null,
      "outputs": [
        {
          "output_type": "stream",
          "name": "stdout",
          "text": [
            "Enter 1st side of triangle: 4\n",
            "Enter 2nd side of triangle: 6\n",
            "Enter 3rd side of triangle: 7\n",
            "Area of triangle is 11.976539567003485\n"
          ]
        }
      ]
    },
    {
      "cell_type": "markdown",
      "metadata": {
        "id": "wydQMIJ6czIT"
      },
      "source": [
        "1.2 Write a function filter_long_words() that takes a list of words and an integer n and returns the list of words that are longer than n."
      ]
    },
    {
      "cell_type": "code",
      "metadata": {
        "colab": {
          "base_uri": "https://localhost:8080/"
        },
        "id": "hgJ2l0w_Y-2Z",
        "outputId": "ca766d3f-afcc-4c4f-ae53-2ab8c23bd0b7"
      },
      "source": [
        "def filter_long_words(arr, n):\n",
        "    return [i for i in arr if len(i) > n]\n",
        "    \n",
        "def filter():\n",
        "    n = int(input('Enter the length of word: '))\n",
        "    list_elements = int(input('How many elements you want to enter in list: '))\n",
        "    arr = [input('Enter words: ') for i in range(list_elements)]\n",
        "    filter_words = filter_long_words(arr,n)\n",
        "    print(\"List of words longer than length {} is: {}\".format(n, filter_words))\n",
        "\n",
        "filter()"
      ],
      "execution_count": null,
      "outputs": [
        {
          "output_type": "stream",
          "name": "stdout",
          "text": [
            "Enter the length of word: 4\n",
            "How many elements you want to enter in list: 7\n",
            "Enter words: beautiful\n",
            "Enter words: ineuron\n",
            "Enter words: data\n",
            "Enter words: science\n",
            "Enter words: statistics\n",
            "Enter words: machinelearning\n",
            "Enter words: artificial intelligence\n",
            "List of words longer than length 4 is: ['beautiful', 'ineuron', 'science', 'statistics', 'machinelearning', 'artificial intelligence']\n"
          ]
        }
      ]
    },
    {
      "cell_type": "markdown",
      "metadata": {
        "id": "K00BB5MddkqN"
      },
      "source": [
        "2.1 Write a Python program using function concept that maps list of words into a list of integers\n",
        "representing the lengths of the corresponding words.\n",
        "Hint: If a list [ ab,cde,erty] is passed on to the python function output should come as [2,3,4]\n",
        "Here 2,3 and 4 are the lengths of the words in the list."
      ]
    },
    {
      "cell_type": "code",
      "metadata": {
        "colab": {
          "base_uri": "https://localhost:8080/"
        },
        "id": "ie9628wYdl3b",
        "outputId": "4f94a8f2-6eab-4128-efd3-9f0d7786d1c9"
      },
      "source": [
        "def length(arr):\n",
        "    return [len(i) for i in arr ]\n",
        "\n",
        "def words_to_list():\n",
        "    list_elements = int(input('how many elements you want to enter in the list: '))\n",
        "    arr = [input('Enter elements: ') for i in range(list_elements)]\n",
        "    counts_word = length(arr)\n",
        "    print(arr)\n",
        "    print(\"List of words into a list of integers representing the lengths of the corresponding words are: \\n {}\".format(counts_word))\n",
        "  \n",
        "words_to_list()"
      ],
      "execution_count": null,
      "outputs": [
        {
          "output_type": "stream",
          "name": "stdout",
          "text": [
            "how many elements you want to enter in the list: 5\n",
            "Enter elements: sfgh\n",
            "Enter elements: sgfh\n",
            "Enter elements: machine\n",
            "Enter elements: learning\n",
            "Enter elements: data scientist\n",
            "['sfgh', 'sgfh', 'machine', 'learning', 'data scientist']\n",
            "List of words into a list of integers representing the lengths of the corresponding words are: \n",
            " [4, 4, 7, 8, 14]\n"
          ]
        }
      ]
    },
    {
      "cell_type": "markdown",
      "metadata": {
        "id": "FAKKCy_Zft6y"
      },
      "source": [
        "2.2 Write a Python function which takes a character (i.e. a string of length 1) and returns True if it is a vowel, False otherwise."
      ]
    },
    {
      "cell_type": "code",
      "metadata": {
        "colab": {
          "base_uri": "https://localhost:8080/"
        },
        "id": "fp3BleLufzYI",
        "outputId": "79860add-3fb7-4d99-b0f7-438c18e863bc"
      },
      "source": [
        "def isVowel():\n",
        "    char = input('Enter a character: ')\n",
        "    return char.lower() in 'aeiou'\n",
        "\n",
        "isVowel()"
      ],
      "execution_count": null,
      "outputs": [
        {
          "name": "stdout",
          "output_type": "stream",
          "text": [
            "Enter a character: g\n"
          ]
        },
        {
          "output_type": "execute_result",
          "data": {
            "text/plain": [
              "False"
            ]
          },
          "metadata": {},
          "execution_count": 19
        }
      ]
    },
    {
      "cell_type": "code",
      "metadata": {
        "id": "fGBNilzxhkL7"
      },
      "source": [
        ""
      ],
      "execution_count": null,
      "outputs": []
    }
  ]
}